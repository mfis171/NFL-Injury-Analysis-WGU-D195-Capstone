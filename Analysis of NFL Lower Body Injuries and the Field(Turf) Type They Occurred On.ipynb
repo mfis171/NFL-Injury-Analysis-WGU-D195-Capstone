{
 "cells": [
  {
   "cell_type": "markdown",
   "id": "68e7381b",
   "metadata": {},
   "source": [
    "# Analysis of NFL Lower Body Injuries and the Field/Turf Type They Occurred On."
   ]
  },
  {
   "cell_type": "markdown",
   "id": "0de4f52d",
   "metadata": {},
   "source": [
    "### Import libraries read in and inspect data"
   ]
  },
  {
   "cell_type": "code",
   "execution_count": 34,
   "id": "00087bc0",
   "metadata": {},
   "outputs": [],
   "source": [
    "#Import libraries\n",
    "import pandas as pd\n",
    "import numpy as np\n",
    "from scipy.stats import chi2_contingency\n",
    "import seaborn as sns\n",
    "import matplotlib.pyplot as plt\n",
    "%matplotlib inline"
   ]
  },
  {
   "cell_type": "code",
   "execution_count": 2,
   "id": "83389b0e",
   "metadata": {},
   "outputs": [],
   "source": [
    "#Read in Injury data\n",
    "injuries = pd.read_csv('InjuryRecord.csv')"
   ]
  },
  {
   "cell_type": "code",
   "execution_count": 3,
   "id": "6cddaa3f",
   "metadata": {},
   "outputs": [],
   "source": [
    "#Read in Plays data\n",
    "plays = pd.read_csv('PlayList.csv')"
   ]
  },
  {
   "cell_type": "code",
   "execution_count": 4,
   "id": "a091f1b7",
   "metadata": {},
   "outputs": [
    {
     "data": {
      "text/html": [
       "<div>\n",
       "<style scoped>\n",
       "    .dataframe tbody tr th:only-of-type {\n",
       "        vertical-align: middle;\n",
       "    }\n",
       "\n",
       "    .dataframe tbody tr th {\n",
       "        vertical-align: top;\n",
       "    }\n",
       "\n",
       "    .dataframe thead th {\n",
       "        text-align: right;\n",
       "    }\n",
       "</style>\n",
       "<table border=\"1\" class=\"dataframe\">\n",
       "  <thead>\n",
       "    <tr style=\"text-align: right;\">\n",
       "      <th></th>\n",
       "      <th>PlayerKey</th>\n",
       "      <th>GameID</th>\n",
       "      <th>PlayKey</th>\n",
       "      <th>BodyPart</th>\n",
       "      <th>Surface</th>\n",
       "      <th>DM_M1</th>\n",
       "      <th>DM_M7</th>\n",
       "      <th>DM_M28</th>\n",
       "      <th>DM_M42</th>\n",
       "    </tr>\n",
       "  </thead>\n",
       "  <tbody>\n",
       "    <tr>\n",
       "      <th>0</th>\n",
       "      <td>39873</td>\n",
       "      <td>39873-4</td>\n",
       "      <td>39873-4-32</td>\n",
       "      <td>Knee</td>\n",
       "      <td>Synthetic</td>\n",
       "      <td>1</td>\n",
       "      <td>1</td>\n",
       "      <td>1</td>\n",
       "      <td>1</td>\n",
       "    </tr>\n",
       "    <tr>\n",
       "      <th>1</th>\n",
       "      <td>46074</td>\n",
       "      <td>46074-7</td>\n",
       "      <td>46074-7-26</td>\n",
       "      <td>Knee</td>\n",
       "      <td>Natural</td>\n",
       "      <td>1</td>\n",
       "      <td>1</td>\n",
       "      <td>0</td>\n",
       "      <td>0</td>\n",
       "    </tr>\n",
       "    <tr>\n",
       "      <th>2</th>\n",
       "      <td>36557</td>\n",
       "      <td>36557-1</td>\n",
       "      <td>36557-1-70</td>\n",
       "      <td>Ankle</td>\n",
       "      <td>Synthetic</td>\n",
       "      <td>1</td>\n",
       "      <td>1</td>\n",
       "      <td>1</td>\n",
       "      <td>1</td>\n",
       "    </tr>\n",
       "    <tr>\n",
       "      <th>3</th>\n",
       "      <td>46646</td>\n",
       "      <td>46646-3</td>\n",
       "      <td>46646-3-30</td>\n",
       "      <td>Ankle</td>\n",
       "      <td>Natural</td>\n",
       "      <td>1</td>\n",
       "      <td>0</td>\n",
       "      <td>0</td>\n",
       "      <td>0</td>\n",
       "    </tr>\n",
       "    <tr>\n",
       "      <th>4</th>\n",
       "      <td>43532</td>\n",
       "      <td>43532-5</td>\n",
       "      <td>43532-5-69</td>\n",
       "      <td>Ankle</td>\n",
       "      <td>Synthetic</td>\n",
       "      <td>1</td>\n",
       "      <td>1</td>\n",
       "      <td>1</td>\n",
       "      <td>1</td>\n",
       "    </tr>\n",
       "  </tbody>\n",
       "</table>\n",
       "</div>"
      ],
      "text/plain": [
       "   PlayerKey   GameID     PlayKey BodyPart    Surface  DM_M1  DM_M7  DM_M28  \\\n",
       "0      39873  39873-4  39873-4-32     Knee  Synthetic      1      1       1   \n",
       "1      46074  46074-7  46074-7-26     Knee    Natural      1      1       0   \n",
       "2      36557  36557-1  36557-1-70    Ankle  Synthetic      1      1       1   \n",
       "3      46646  46646-3  46646-3-30    Ankle    Natural      1      0       0   \n",
       "4      43532  43532-5  43532-5-69    Ankle  Synthetic      1      1       1   \n",
       "\n",
       "   DM_M42  \n",
       "0       1  \n",
       "1       0  \n",
       "2       1  \n",
       "3       0  \n",
       "4       1  "
      ]
     },
     "execution_count": 4,
     "metadata": {},
     "output_type": "execute_result"
    }
   ],
   "source": [
    "#Look at injuries data frame\n",
    "injuries.head()"
   ]
  },
  {
   "cell_type": "code",
   "execution_count": 5,
   "id": "fc6afd3c",
   "metadata": {},
   "outputs": [
    {
     "data": {
      "text/html": [
       "<div>\n",
       "<style scoped>\n",
       "    .dataframe tbody tr th:only-of-type {\n",
       "        vertical-align: middle;\n",
       "    }\n",
       "\n",
       "    .dataframe tbody tr th {\n",
       "        vertical-align: top;\n",
       "    }\n",
       "\n",
       "    .dataframe thead th {\n",
       "        text-align: right;\n",
       "    }\n",
       "</style>\n",
       "<table border=\"1\" class=\"dataframe\">\n",
       "  <thead>\n",
       "    <tr style=\"text-align: right;\">\n",
       "      <th></th>\n",
       "      <th>PlayerKey</th>\n",
       "      <th>GameID</th>\n",
       "      <th>PlayKey</th>\n",
       "      <th>RosterPosition</th>\n",
       "      <th>PlayerDay</th>\n",
       "      <th>PlayerGame</th>\n",
       "      <th>StadiumType</th>\n",
       "      <th>FieldType</th>\n",
       "      <th>Temperature</th>\n",
       "      <th>Weather</th>\n",
       "      <th>PlayType</th>\n",
       "      <th>PlayerGamePlay</th>\n",
       "      <th>Position</th>\n",
       "      <th>PositionGroup</th>\n",
       "    </tr>\n",
       "  </thead>\n",
       "  <tbody>\n",
       "    <tr>\n",
       "      <th>0</th>\n",
       "      <td>26624</td>\n",
       "      <td>26624-1</td>\n",
       "      <td>26624-1-1</td>\n",
       "      <td>Quarterback</td>\n",
       "      <td>1</td>\n",
       "      <td>1</td>\n",
       "      <td>Outdoor</td>\n",
       "      <td>Synthetic</td>\n",
       "      <td>63</td>\n",
       "      <td>Clear and warm</td>\n",
       "      <td>Pass</td>\n",
       "      <td>1</td>\n",
       "      <td>QB</td>\n",
       "      <td>QB</td>\n",
       "    </tr>\n",
       "    <tr>\n",
       "      <th>1</th>\n",
       "      <td>26624</td>\n",
       "      <td>26624-1</td>\n",
       "      <td>26624-1-2</td>\n",
       "      <td>Quarterback</td>\n",
       "      <td>1</td>\n",
       "      <td>1</td>\n",
       "      <td>Outdoor</td>\n",
       "      <td>Synthetic</td>\n",
       "      <td>63</td>\n",
       "      <td>Clear and warm</td>\n",
       "      <td>Pass</td>\n",
       "      <td>2</td>\n",
       "      <td>QB</td>\n",
       "      <td>QB</td>\n",
       "    </tr>\n",
       "    <tr>\n",
       "      <th>2</th>\n",
       "      <td>26624</td>\n",
       "      <td>26624-1</td>\n",
       "      <td>26624-1-3</td>\n",
       "      <td>Quarterback</td>\n",
       "      <td>1</td>\n",
       "      <td>1</td>\n",
       "      <td>Outdoor</td>\n",
       "      <td>Synthetic</td>\n",
       "      <td>63</td>\n",
       "      <td>Clear and warm</td>\n",
       "      <td>Rush</td>\n",
       "      <td>3</td>\n",
       "      <td>QB</td>\n",
       "      <td>QB</td>\n",
       "    </tr>\n",
       "    <tr>\n",
       "      <th>3</th>\n",
       "      <td>26624</td>\n",
       "      <td>26624-1</td>\n",
       "      <td>26624-1-4</td>\n",
       "      <td>Quarterback</td>\n",
       "      <td>1</td>\n",
       "      <td>1</td>\n",
       "      <td>Outdoor</td>\n",
       "      <td>Synthetic</td>\n",
       "      <td>63</td>\n",
       "      <td>Clear and warm</td>\n",
       "      <td>Rush</td>\n",
       "      <td>4</td>\n",
       "      <td>QB</td>\n",
       "      <td>QB</td>\n",
       "    </tr>\n",
       "    <tr>\n",
       "      <th>4</th>\n",
       "      <td>26624</td>\n",
       "      <td>26624-1</td>\n",
       "      <td>26624-1-5</td>\n",
       "      <td>Quarterback</td>\n",
       "      <td>1</td>\n",
       "      <td>1</td>\n",
       "      <td>Outdoor</td>\n",
       "      <td>Synthetic</td>\n",
       "      <td>63</td>\n",
       "      <td>Clear and warm</td>\n",
       "      <td>Pass</td>\n",
       "      <td>5</td>\n",
       "      <td>QB</td>\n",
       "      <td>QB</td>\n",
       "    </tr>\n",
       "  </tbody>\n",
       "</table>\n",
       "</div>"
      ],
      "text/plain": [
       "   PlayerKey   GameID    PlayKey RosterPosition  PlayerDay  PlayerGame  \\\n",
       "0      26624  26624-1  26624-1-1    Quarterback          1           1   \n",
       "1      26624  26624-1  26624-1-2    Quarterback          1           1   \n",
       "2      26624  26624-1  26624-1-3    Quarterback          1           1   \n",
       "3      26624  26624-1  26624-1-4    Quarterback          1           1   \n",
       "4      26624  26624-1  26624-1-5    Quarterback          1           1   \n",
       "\n",
       "  StadiumType  FieldType  Temperature         Weather PlayType  \\\n",
       "0     Outdoor  Synthetic           63  Clear and warm     Pass   \n",
       "1     Outdoor  Synthetic           63  Clear and warm     Pass   \n",
       "2     Outdoor  Synthetic           63  Clear and warm     Rush   \n",
       "3     Outdoor  Synthetic           63  Clear and warm     Rush   \n",
       "4     Outdoor  Synthetic           63  Clear and warm     Pass   \n",
       "\n",
       "   PlayerGamePlay Position PositionGroup  \n",
       "0               1       QB            QB  \n",
       "1               2       QB            QB  \n",
       "2               3       QB            QB  \n",
       "3               4       QB            QB  \n",
       "4               5       QB            QB  "
      ]
     },
     "execution_count": 5,
     "metadata": {},
     "output_type": "execute_result"
    }
   ],
   "source": [
    "#Look at plays data frame\n",
    "plays.head()"
   ]
  },
  {
   "cell_type": "code",
   "execution_count": 6,
   "id": "18d8a82d",
   "metadata": {},
   "outputs": [
    {
     "name": "stdout",
     "output_type": "stream",
     "text": [
      "<class 'pandas.core.frame.DataFrame'>\n",
      "RangeIndex: 105 entries, 0 to 104\n",
      "Data columns (total 9 columns):\n",
      " #   Column     Non-Null Count  Dtype \n",
      "---  ------     --------------  ----- \n",
      " 0   PlayerKey  105 non-null    int64 \n",
      " 1   GameID     105 non-null    object\n",
      " 2   PlayKey    77 non-null     object\n",
      " 3   BodyPart   105 non-null    object\n",
      " 4   Surface    105 non-null    object\n",
      " 5   DM_M1      105 non-null    int64 \n",
      " 6   DM_M7      105 non-null    int64 \n",
      " 7   DM_M28     105 non-null    int64 \n",
      " 8   DM_M42     105 non-null    int64 \n",
      "dtypes: int64(5), object(4)\n",
      "memory usage: 7.5+ KB\n"
     ]
    }
   ],
   "source": [
    "#Review info for injuries data frame\n",
    "#We see missing data in the PlayKey field meaning we have injuries that we cannot tie to a specific play\n",
    "#I will not be looking at this dataset at the play level so this is not a concern\n",
    "injuries.info()"
   ]
  },
  {
   "cell_type": "code",
   "execution_count": 7,
   "id": "00fdd41e",
   "metadata": {},
   "outputs": [
    {
     "name": "stdout",
     "output_type": "stream",
     "text": [
      "<class 'pandas.core.frame.DataFrame'>\n",
      "RangeIndex: 267005 entries, 0 to 267004\n",
      "Data columns (total 14 columns):\n",
      " #   Column          Non-Null Count   Dtype \n",
      "---  ------          --------------   ----- \n",
      " 0   PlayerKey       267005 non-null  int64 \n",
      " 1   GameID          267005 non-null  object\n",
      " 2   PlayKey         267005 non-null  object\n",
      " 3   RosterPosition  267005 non-null  object\n",
      " 4   PlayerDay       267005 non-null  int64 \n",
      " 5   PlayerGame      267005 non-null  int64 \n",
      " 6   StadiumType     250095 non-null  object\n",
      " 7   FieldType       267005 non-null  object\n",
      " 8   Temperature     267005 non-null  int64 \n",
      " 9   Weather         248314 non-null  object\n",
      " 10  PlayType        266638 non-null  object\n",
      " 11  PlayerGamePlay  267005 non-null  int64 \n",
      " 12  Position        267005 non-null  object\n",
      " 13  PositionGroup   267005 non-null  object\n",
      "dtypes: int64(5), object(9)\n",
      "memory usage: 28.5+ MB\n"
     ]
    }
   ],
   "source": [
    "#Review info for plays data frame\n",
    "#Again we see some missing weather data but again I will not need weather data for this analysis\n",
    "plays.info()"
   ]
  },
  {
   "cell_type": "code",
   "execution_count": 8,
   "id": "ad43eb8c",
   "metadata": {},
   "outputs": [
    {
     "data": {
      "text/plain": [
       "Linebacker           50129\n",
       "Offensive Lineman    47413\n",
       "Wide Receiver        43391\n",
       "Safety               39387\n",
       "Defensive Lineman    30588\n",
       "Cornerback           28987\n",
       "Running Back         11664\n",
       "Tight End             7752\n",
       "Quarterback           6986\n",
       "Kicker                 708\n",
       "Name: RosterPosition, dtype: int64"
      ]
     },
     "execution_count": 8,
     "metadata": {},
     "output_type": "execute_result"
    }
   ],
   "source": [
    "#Verifying RosterPosition values, these look good\n",
    "plays['RosterPosition'].value_counts()"
   ]
  },
  {
   "cell_type": "code",
   "execution_count": 9,
   "id": "acb1a8f1",
   "metadata": {},
   "outputs": [
    {
     "data": {
      "text/plain": [
       "Outdoor                   145032\n",
       "Outdoors                   32956\n",
       "Indoors                    22805\n",
       "Dome                        9376\n",
       "Retractable Roof            8914\n",
       "Indoor                      6892\n",
       "Open                        4124\n",
       "Domed, closed               3076\n",
       "Retr. Roof - Closed         2235\n",
       "Retr. Roof-Closed           2015\n",
       "Domed, open                 1779\n",
       "Dome, closed                1059\n",
       "Closed Dome                 1011\n",
       "Domed                        985\n",
       "Oudoor                       914\n",
       "Domed, Open                  807\n",
       "Ourdoor                      778\n",
       "Outdoor Retr Roof-Open       601\n",
       "Outddors                     595\n",
       "Indoor, Roof Closed          547\n",
       "Retr. Roof-Open              486\n",
       "Retr. Roof - Open            486\n",
       "Indoor, Open Roof            479\n",
       "Bowl                         465\n",
       "Retr. Roof Closed            414\n",
       "Heinz Field                  389\n",
       "Outdor                       356\n",
       "Outside                      341\n",
       "Cloudy                       178\n",
       "Name: StadiumType, dtype: int64"
      ]
     },
     "execution_count": 9,
     "metadata": {},
     "output_type": "execute_result"
    }
   ],
   "source": [
    "#Verifying StadiumType values. We won't be using this for our analysis but will clean it up to tidy the data anyway\n",
    "plays['StadiumType'].value_counts()"
   ]
  },
  {
   "cell_type": "code",
   "execution_count": 10,
   "id": "561aa7a5",
   "metadata": {},
   "outputs": [
    {
     "data": {
      "text/plain": [
       "Natural      156902\n",
       "Synthetic    110103\n",
       "Name: FieldType, dtype: int64"
      ]
     },
     "execution_count": 10,
     "metadata": {},
     "output_type": "execute_result"
    }
   ],
   "source": [
    "#Reviewing FieldType values, these look good\n",
    "plays['FieldType'].value_counts()"
   ]
  },
  {
   "cell_type": "code",
   "execution_count": 11,
   "id": "06ac5256",
   "metadata": {},
   "outputs": [
    {
     "data": {
      "text/plain": [
       "Knee     48\n",
       "Ankle    42\n",
       "Foot      7\n",
       "Toes      7\n",
       "Heel      1\n",
       "Name: BodyPart, dtype: int64"
      ]
     },
     "execution_count": 11,
     "metadata": {},
     "output_type": "execute_result"
    }
   ],
   "source": [
    "#Reviewing BodyPart values, these look good\n",
    "injuries['BodyPart'].value_counts()"
   ]
  },
  {
   "cell_type": "code",
   "execution_count": 12,
   "id": "4e3488c6",
   "metadata": {},
   "outputs": [
    {
     "data": {
      "text/plain": [
       "Synthetic    57\n",
       "Natural      48\n",
       "Name: Surface, dtype: int64"
      ]
     },
     "execution_count": 12,
     "metadata": {},
     "output_type": "execute_result"
    }
   ],
   "source": [
    "#Reviewing Surface values, these look good\n",
    "injuries['Surface'].value_counts()"
   ]
  },
  {
   "cell_type": "code",
   "execution_count": 13,
   "id": "382d6c53",
   "metadata": {},
   "outputs": [
    {
     "data": {
      "text/plain": [
       "Cloudy                                                                              60705\n",
       "Sunny                                                                               51728\n",
       "Partly Cloudy                                                                       28463\n",
       "Clear                                                                               25923\n",
       "Mostly Cloudy                                                                       11176\n",
       "                                                                                    ...  \n",
       "30% Chance of Rain                                                                    354\n",
       "Partly Clouidy                                                                        302\n",
       "Coudy                                                                                 278\n",
       "Cloudy with periods of rain, thunder possible. Winds shifting to WNW, 10-20 mph.      246\n",
       "Party Cloudy                                                                          230\n",
       "Name: Weather, Length: 63, dtype: int64"
      ]
     },
     "execution_count": 13,
     "metadata": {},
     "output_type": "execute_result"
    }
   ],
   "source": [
    "#there are many different vaslues for weather and even some missing data\n",
    "#but we will not be using weather for this analysis so I will not be cleaning/tidying this field\n",
    "plays['Weather'].value_counts()"
   ]
  },
  {
   "cell_type": "markdown",
   "id": "15e485d1",
   "metadata": {},
   "source": [
    "### Clean and Tidy Data"
   ]
  },
  {
   "cell_type": "code",
   "execution_count": 14,
   "id": "bacf0f84",
   "metadata": {},
   "outputs": [],
   "source": [
    "#Tidy StadiumType categories(Outdoor). Verified Heinz Field is an outdoor stadium\n",
    "for i in plays['StadiumType']:\n",
    "    if i == 'Outdoors' or i == 'Outdor' or i == 'Outside' or i == 'Outddors' or i == 'Outdoor Retr Roof-Open' or i == 'Ourdoor' or i == 'Oudoor' or i == 'Domed, open' or i == 'Open' or i == 'Retr. Roof-Open' or i =='Retr. Roof - Open' or i == 'Domed, Open' or i =='Heinz Field':\n",
    "        plays['StadiumType'].replace(i, 'Outdoor', inplace = True)"
   ]
  },
  {
   "cell_type": "code",
   "execution_count": 15,
   "id": "64c35d41",
   "metadata": {},
   "outputs": [],
   "source": [
    "#Tidy StadiumType categories(Indoor)\n",
    "for i in plays['StadiumType']:\n",
    "    if i == 'Indoors' or i == 'Dome' or i == 'Domed, closed' or i == 'Retr. Roof - Closed' or i == 'Retr. Roof-Closed' or i == 'Dome, closed' or i == 'Closed Dome' or i == 'Domed' or i == 'Indoor, Roof Closed' or i == 'Indoor, Open Roof' or i == 'Retr. Roof Closed':\n",
    "        plays['StadiumType'].replace(i, 'Indoor', inplace = True)"
   ]
  },
  {
   "cell_type": "code",
   "execution_count": 16,
   "id": "03bdd332",
   "metadata": {},
   "outputs": [],
   "source": [
    "#Tidy StadiumType categories(Unknown). Unable to determine for sure if Retractable Roof, Bowl, and Cloudy are actually Indoor or Outdoor so marking as Unknown\n",
    "for i in plays['StadiumType']:\n",
    "    if i == 'Retractable Roof' or i == 'Bowl' or i == 'Cloudy':\n",
    "        plays['StadiumType'].replace(i, 'Unknown', inplace = True)"
   ]
  },
  {
   "cell_type": "code",
   "execution_count": 17,
   "id": "6ef9f200",
   "metadata": {},
   "outputs": [
    {
     "data": {
      "text/plain": [
       "Outdoor    189644\n",
       "Indoor      50894\n",
       "Unknown      9557\n",
       "Name: StadiumType, dtype: int64"
      ]
     },
     "execution_count": 17,
     "metadata": {},
     "output_type": "execute_result"
    }
   ],
   "source": [
    "#Reviewing changes\n",
    "plays['StadiumType'].value_counts()"
   ]
  },
  {
   "cell_type": "markdown",
   "id": "1b182765",
   "metadata": {},
   "source": [
    "### Prepare data for join"
   ]
  },
  {
   "cell_type": "code",
   "execution_count": 18,
   "id": "1f8e18dc",
   "metadata": {},
   "outputs": [],
   "source": [
    "#Creating a new plays dataframe with only the columns I will need to join with the injuries data frame for analysis\n",
    "#Droping duplicates from the new data frame\n",
    "plays = plays[['PlayerKey','GameID', 'StadiumType', 'FieldType', 'RosterPosition']].drop_duplicates().reset_index().drop(columns=['index'])"
   ]
  },
  {
   "cell_type": "code",
   "execution_count": 19,
   "id": "3fe98911",
   "metadata": {},
   "outputs": [
    {
     "name": "stdout",
     "output_type": "stream",
     "text": [
      "<class 'pandas.core.frame.DataFrame'>\n",
      "RangeIndex: 5712 entries, 0 to 5711\n",
      "Data columns (total 5 columns):\n",
      " #   Column          Non-Null Count  Dtype \n",
      "---  ------          --------------  ----- \n",
      " 0   PlayerKey       5712 non-null   int64 \n",
      " 1   GameID          5712 non-null   object\n",
      " 2   StadiumType     5362 non-null   object\n",
      " 3   FieldType       5712 non-null   object\n",
      " 4   RosterPosition  5712 non-null   object\n",
      "dtypes: int64(1), object(4)\n",
      "memory usage: 223.2+ KB\n"
     ]
    }
   ],
   "source": [
    "#Verifying new dataframe\n",
    "plays.info()"
   ]
  },
  {
   "cell_type": "code",
   "execution_count": 20,
   "id": "d4764b6c",
   "metadata": {},
   "outputs": [],
   "source": [
    "#Dropping uneeded column from injuries dataframe\n",
    "injuries.drop(columns = ['PlayKey'], inplace=True)"
   ]
  },
  {
   "cell_type": "markdown",
   "id": "ed9b0ef1",
   "metadata": {},
   "source": [
    "### Joining Data Frames for Analysis"
   ]
  },
  {
   "cell_type": "code",
   "execution_count": 21,
   "id": "f62187fb",
   "metadata": {},
   "outputs": [],
   "source": [
    "#Joining plays and injuries data from on GameID\n",
    "injuries_by_game = injuries.set_index('GameID').join(plays.set_index('GameID'), how = 'outer', lsuffix = 'injuries', rsuffix = 'plays')"
   ]
  },
  {
   "cell_type": "code",
   "execution_count": 22,
   "id": "08096811",
   "metadata": {},
   "outputs": [
    {
     "name": "stdout",
     "output_type": "stream",
     "text": [
      "<class 'pandas.core.frame.DataFrame'>\n",
      "Index: 5713 entries, 26624-1 to 47888-9\n",
      "Data columns (total 11 columns):\n",
      " #   Column             Non-Null Count  Dtype  \n",
      "---  ------             --------------  -----  \n",
      " 0   PlayerKeyinjuries  105 non-null    float64\n",
      " 1   BodyPart           105 non-null    object \n",
      " 2   Surface            105 non-null    object \n",
      " 3   DM_M1              105 non-null    float64\n",
      " 4   DM_M7              105 non-null    float64\n",
      " 5   DM_M28             105 non-null    float64\n",
      " 6   DM_M42             105 non-null    float64\n",
      " 7   PlayerKeyplays     5713 non-null   int64  \n",
      " 8   StadiumType        5363 non-null   object \n",
      " 9   FieldType          5713 non-null   object \n",
      " 10  RosterPosition     5713 non-null   object \n",
      "dtypes: float64(5), int64(1), object(5)\n",
      "memory usage: 535.6+ KB\n"
     ]
    }
   ],
   "source": [
    "#Verifying new dataframe\n",
    "injuries_by_game.info()"
   ]
  },
  {
   "cell_type": "code",
   "execution_count": 23,
   "id": "4b806a4b",
   "metadata": {},
   "outputs": [],
   "source": [
    "#Filling the nans in the missing days fields with 0's\n",
    "injuries_by_game['DM_M1'] = injuries_by_game['DM_M1'].fillna(0).astype(int)\n",
    "injuries_by_game['DM_M7'] = injuries_by_game['DM_M7'].fillna(0).astype(int)\n",
    "injuries_by_game['DM_M28'] = injuries_by_game['DM_M28'].fillna(0).astype(int)\n",
    "injuries_by_game['DM_M42'] = injuries_by_game['DM_M42'].fillna(0).astype(int)"
   ]
  },
  {
   "cell_type": "code",
   "execution_count": 24,
   "id": "7f086414",
   "metadata": {},
   "outputs": [],
   "source": [
    "#Creating new column in new dataframe to signify which players were injured\n",
    "injuries_by_game['Injured'] = injuries_by_game['DM_M1']"
   ]
  },
  {
   "cell_type": "code",
   "execution_count": 25,
   "id": "8c649390",
   "metadata": {
    "scrolled": true
   },
   "outputs": [
    {
     "data": {
      "text/html": [
       "<div>\n",
       "<style scoped>\n",
       "    .dataframe tbody tr th:only-of-type {\n",
       "        vertical-align: middle;\n",
       "    }\n",
       "\n",
       "    .dataframe tbody tr th {\n",
       "        vertical-align: top;\n",
       "    }\n",
       "\n",
       "    .dataframe thead th {\n",
       "        text-align: right;\n",
       "    }\n",
       "</style>\n",
       "<table border=\"1\" class=\"dataframe\">\n",
       "  <thead>\n",
       "    <tr style=\"text-align: right;\">\n",
       "      <th></th>\n",
       "      <th>PlayerKeyinjuries</th>\n",
       "      <th>BodyPart</th>\n",
       "      <th>Surface</th>\n",
       "      <th>DM_M1</th>\n",
       "      <th>DM_M7</th>\n",
       "      <th>DM_M28</th>\n",
       "      <th>DM_M42</th>\n",
       "      <th>PlayerKeyplays</th>\n",
       "      <th>StadiumType</th>\n",
       "      <th>FieldType</th>\n",
       "      <th>RosterPosition</th>\n",
       "      <th>Injured</th>\n",
       "    </tr>\n",
       "    <tr>\n",
       "      <th>GameID</th>\n",
       "      <th></th>\n",
       "      <th></th>\n",
       "      <th></th>\n",
       "      <th></th>\n",
       "      <th></th>\n",
       "      <th></th>\n",
       "      <th></th>\n",
       "      <th></th>\n",
       "      <th></th>\n",
       "      <th></th>\n",
       "      <th></th>\n",
       "      <th></th>\n",
       "    </tr>\n",
       "  </thead>\n",
       "  <tbody>\n",
       "    <tr>\n",
       "      <th>26624-1</th>\n",
       "      <td>NaN</td>\n",
       "      <td>NaN</td>\n",
       "      <td>NaN</td>\n",
       "      <td>0</td>\n",
       "      <td>0</td>\n",
       "      <td>0</td>\n",
       "      <td>0</td>\n",
       "      <td>26624</td>\n",
       "      <td>Outdoor</td>\n",
       "      <td>Synthetic</td>\n",
       "      <td>Quarterback</td>\n",
       "      <td>0</td>\n",
       "    </tr>\n",
       "    <tr>\n",
       "      <th>26624-10</th>\n",
       "      <td>NaN</td>\n",
       "      <td>NaN</td>\n",
       "      <td>NaN</td>\n",
       "      <td>0</td>\n",
       "      <td>0</td>\n",
       "      <td>0</td>\n",
       "      <td>0</td>\n",
       "      <td>26624</td>\n",
       "      <td>Outdoor</td>\n",
       "      <td>Natural</td>\n",
       "      <td>Quarterback</td>\n",
       "      <td>0</td>\n",
       "    </tr>\n",
       "    <tr>\n",
       "      <th>26624-11</th>\n",
       "      <td>NaN</td>\n",
       "      <td>NaN</td>\n",
       "      <td>NaN</td>\n",
       "      <td>0</td>\n",
       "      <td>0</td>\n",
       "      <td>0</td>\n",
       "      <td>0</td>\n",
       "      <td>26624</td>\n",
       "      <td>Outdoor</td>\n",
       "      <td>Synthetic</td>\n",
       "      <td>Quarterback</td>\n",
       "      <td>0</td>\n",
       "    </tr>\n",
       "    <tr>\n",
       "      <th>26624-12</th>\n",
       "      <td>NaN</td>\n",
       "      <td>NaN</td>\n",
       "      <td>NaN</td>\n",
       "      <td>0</td>\n",
       "      <td>0</td>\n",
       "      <td>0</td>\n",
       "      <td>0</td>\n",
       "      <td>26624</td>\n",
       "      <td>Outdoor</td>\n",
       "      <td>Synthetic</td>\n",
       "      <td>Quarterback</td>\n",
       "      <td>0</td>\n",
       "    </tr>\n",
       "    <tr>\n",
       "      <th>26624-13</th>\n",
       "      <td>NaN</td>\n",
       "      <td>NaN</td>\n",
       "      <td>NaN</td>\n",
       "      <td>0</td>\n",
       "      <td>0</td>\n",
       "      <td>0</td>\n",
       "      <td>0</td>\n",
       "      <td>26624</td>\n",
       "      <td>Outdoor</td>\n",
       "      <td>Natural</td>\n",
       "      <td>Quarterback</td>\n",
       "      <td>0</td>\n",
       "    </tr>\n",
       "    <tr>\n",
       "      <th>...</th>\n",
       "      <td>...</td>\n",
       "      <td>...</td>\n",
       "      <td>...</td>\n",
       "      <td>...</td>\n",
       "      <td>...</td>\n",
       "      <td>...</td>\n",
       "      <td>...</td>\n",
       "      <td>...</td>\n",
       "      <td>...</td>\n",
       "      <td>...</td>\n",
       "      <td>...</td>\n",
       "      <td>...</td>\n",
       "    </tr>\n",
       "    <tr>\n",
       "      <th>47888-5</th>\n",
       "      <td>NaN</td>\n",
       "      <td>NaN</td>\n",
       "      <td>NaN</td>\n",
       "      <td>0</td>\n",
       "      <td>0</td>\n",
       "      <td>0</td>\n",
       "      <td>0</td>\n",
       "      <td>47888</td>\n",
       "      <td>Outdoor</td>\n",
       "      <td>Synthetic</td>\n",
       "      <td>Cornerback</td>\n",
       "      <td>0</td>\n",
       "    </tr>\n",
       "    <tr>\n",
       "      <th>47888-6</th>\n",
       "      <td>NaN</td>\n",
       "      <td>NaN</td>\n",
       "      <td>NaN</td>\n",
       "      <td>0</td>\n",
       "      <td>0</td>\n",
       "      <td>0</td>\n",
       "      <td>0</td>\n",
       "      <td>47888</td>\n",
       "      <td>Outdoor</td>\n",
       "      <td>Synthetic</td>\n",
       "      <td>Cornerback</td>\n",
       "      <td>0</td>\n",
       "    </tr>\n",
       "    <tr>\n",
       "      <th>47888-7</th>\n",
       "      <td>NaN</td>\n",
       "      <td>NaN</td>\n",
       "      <td>NaN</td>\n",
       "      <td>0</td>\n",
       "      <td>0</td>\n",
       "      <td>0</td>\n",
       "      <td>0</td>\n",
       "      <td>47888</td>\n",
       "      <td>Outdoor</td>\n",
       "      <td>Natural</td>\n",
       "      <td>Cornerback</td>\n",
       "      <td>0</td>\n",
       "    </tr>\n",
       "    <tr>\n",
       "      <th>47888-8</th>\n",
       "      <td>NaN</td>\n",
       "      <td>NaN</td>\n",
       "      <td>NaN</td>\n",
       "      <td>0</td>\n",
       "      <td>0</td>\n",
       "      <td>0</td>\n",
       "      <td>0</td>\n",
       "      <td>47888</td>\n",
       "      <td>Outdoor</td>\n",
       "      <td>Synthetic</td>\n",
       "      <td>Cornerback</td>\n",
       "      <td>0</td>\n",
       "    </tr>\n",
       "    <tr>\n",
       "      <th>47888-9</th>\n",
       "      <td>NaN</td>\n",
       "      <td>NaN</td>\n",
       "      <td>NaN</td>\n",
       "      <td>0</td>\n",
       "      <td>0</td>\n",
       "      <td>0</td>\n",
       "      <td>0</td>\n",
       "      <td>47888</td>\n",
       "      <td>Outdoor</td>\n",
       "      <td>Synthetic</td>\n",
       "      <td>Cornerback</td>\n",
       "      <td>0</td>\n",
       "    </tr>\n",
       "  </tbody>\n",
       "</table>\n",
       "<p>5713 rows × 12 columns</p>\n",
       "</div>"
      ],
      "text/plain": [
       "          PlayerKeyinjuries BodyPart Surface  DM_M1  DM_M7  DM_M28  DM_M42  \\\n",
       "GameID                                                                       \n",
       "26624-1                 NaN      NaN     NaN      0      0       0       0   \n",
       "26624-10                NaN      NaN     NaN      0      0       0       0   \n",
       "26624-11                NaN      NaN     NaN      0      0       0       0   \n",
       "26624-12                NaN      NaN     NaN      0      0       0       0   \n",
       "26624-13                NaN      NaN     NaN      0      0       0       0   \n",
       "...                     ...      ...     ...    ...    ...     ...     ...   \n",
       "47888-5                 NaN      NaN     NaN      0      0       0       0   \n",
       "47888-6                 NaN      NaN     NaN      0      0       0       0   \n",
       "47888-7                 NaN      NaN     NaN      0      0       0       0   \n",
       "47888-8                 NaN      NaN     NaN      0      0       0       0   \n",
       "47888-9                 NaN      NaN     NaN      0      0       0       0   \n",
       "\n",
       "          PlayerKeyplays StadiumType  FieldType RosterPosition  Injured  \n",
       "GameID                                                                   \n",
       "26624-1            26624     Outdoor  Synthetic    Quarterback        0  \n",
       "26624-10           26624     Outdoor    Natural    Quarterback        0  \n",
       "26624-11           26624     Outdoor  Synthetic    Quarterback        0  \n",
       "26624-12           26624     Outdoor  Synthetic    Quarterback        0  \n",
       "26624-13           26624     Outdoor    Natural    Quarterback        0  \n",
       "...                  ...         ...        ...            ...      ...  \n",
       "47888-5            47888     Outdoor  Synthetic     Cornerback        0  \n",
       "47888-6            47888     Outdoor  Synthetic     Cornerback        0  \n",
       "47888-7            47888     Outdoor    Natural     Cornerback        0  \n",
       "47888-8            47888     Outdoor  Synthetic     Cornerback        0  \n",
       "47888-9            47888     Outdoor  Synthetic     Cornerback        0  \n",
       "\n",
       "[5713 rows x 12 columns]"
      ]
     },
     "execution_count": 25,
     "metadata": {},
     "output_type": "execute_result"
    }
   ],
   "source": [
    "#Replacing blanks with nans\n",
    "injuries_by_game.replace(r'^\\s*$', np.nan, regex=True)"
   ]
  },
  {
   "cell_type": "code",
   "execution_count": 26,
   "id": "e84bad01",
   "metadata": {},
   "outputs": [],
   "source": [
    "#Writing new dataframe to CSV\n",
    "injuries_by_game.to_csv('injuries by game.csv')"
   ]
  },
  {
   "cell_type": "markdown",
   "id": "93e3b781",
   "metadata": {},
   "source": [
    "***At this point I exported the cleaned and joined data to use in QlikSense a data visualization application. Below you will see the visualizations I created in qliksense by analyzing the joined dataframe. I wanted to first get a brief look at the data specifically needed for the hypothesis of this project. Below you can see that in this data set 58% of games were  played on natural turf. If our null hypothesis, Probability of injury on natural turf is less than or equal to injury on sythentic turf, is correct then we should expect to see more injuries on natural turf in this data set just due to the majority of games being played on natural turf. What we see instead is that we still have more injuries on sythetic turf. This is not conclusive, but bodes in favor of our alternative hypothesis.***"
   ]
  },
  {
   "attachments": {
    "Field%20Type.png": {
     "image/png": "[encoded data removed]"
    }
   },
   "cell_type": "markdown",
   "id": "e2ef0c4f",
   "metadata": {},
   "source": [
    "![Field%20Type.png](attachment:Field%20Type.png)"
   ]
  },
  {
   "cell_type": "markdown",
   "id": "a3e941b5",
   "metadata": {},
   "source": [
    "***I then created some additional visualizations that provides some interesting insights into this data set, even if they don't directly relate to the hypothsis testing I am doing in this project. The first visualization you see below is the breakdown of injuries by body part. As you can see the knees and ankles appear to be the most susceptible to injury in this dataset/ With foot, toes and heel all accounting for much lower numbers.***"
   ]
  },
  {
   "attachments": {
    "Body%20Part.png": {
     "image/png": "[encoded data removed]"
    }
   },
   "cell_type": "markdown",
   "id": "bc599242",
   "metadata": {},
   "source": [
    "![Body%20Part.png](attachment:Body%20Part.png)"
   ]
  },
  {
   "cell_type": "markdown",
   "id": "00f13261",
   "metadata": {},
   "source": [
    "***I created another visualization to shows injuries by roster position. Here we can see that Lineback and Wide Receiver are the most often injured among this data set, with Safety and Cornerback also being fairly high. There are smaller numbers of injuries in the Defensive Line, Running Back, Offensive Line and Tight End positions.***"
   ]
  },
  {
   "attachments": {
    "Roster%20Position.png": {
     "image/png": "[encoded data removed]"
    }
   },
   "cell_type": "markdown",
   "id": "c340adff",
   "metadata": {},
   "source": [
    "![Roster%20Position.png](attachment:Roster%20Position.png)"
   ]
  },
  {
   "cell_type": "markdown",
   "id": "608b2eaf",
   "metadata": {},
   "source": [
    "***The last visualization I created in QlikSense is looking at the number of days players missed due to injury. As you can see the majority of players injured missed 8-28 days. Interestingly there were an equal number of injured players that missed 1-7 days and more than 42 days. Another interesting note is how small the group is that missed 29-42 days. We could speculate that perhaps some of the foot/ankle/toe inuries heal quickly, while perhaps the knee and leg injuries could take longer, thus leaving a lesser amount of players in the middling days missed area.***"
   ]
  },
  {
   "attachments": {
    "Days%20Missed.png": {
     "image/png": "[encoded data removed]"
    }
   },
   "cell_type": "markdown",
   "id": "ee18c9e3",
   "metadata": {},
   "source": [
    "![Days%20Missed.png](attachment:Days%20Missed.png)"
   ]
  },
  {
   "cell_type": "markdown",
   "id": "dc2c5b61",
   "metadata": {},
   "source": [
    "### Preparing data for Chi Square testing"
   ]
  },
  {
   "cell_type": "markdown",
   "id": "982dc0fc",
   "metadata": {},
   "source": [
    "***Below I prepare the data for Chi Square testing. As I have 2 categorical varibales, turf type and injured status, this is an apporpriate method to get a p-value to determine the statistical significance which will tell me if my null hypothesis is correct or if it should be rejected in favor of the alternative hypothesis.***\n",
    "\n",
    "\n",
    "***I first gather the data to see the probability of injuy on each turf type. Using this data we can in fact see that the probability for injury is quite a bit higher on sythentic turf. That doesn't directly confirm our null hypothesis though. In order to do that we will need to prove that data is statistically significant. We can do that using a Chi Square Test.***"
   ]
  },
  {
   "cell_type": "code",
   "execution_count": 27,
   "id": "70d460c4",
   "metadata": {},
   "outputs": [
    {
     "data": {
      "text/plain": [
       "FieldType\n",
       "Natural      0.014497\n",
       "Synthetic    0.023730\n",
       "Name: Injured, dtype: float64"
      ]
     },
     "execution_count": 27,
     "metadata": {},
     "output_type": "execute_result"
    }
   ],
   "source": [
    "#Series showing the mean of injuries by turf type\n",
    "injury = injuries_by_game[['FieldType', 'Injured']].groupby('FieldType').mean()['Injured']\n",
    "injury"
   ]
  },
  {
   "cell_type": "markdown",
   "id": "94cca04d",
   "metadata": {},
   "source": [
    "***Before running the Chi Square Test, I created a a basic contingency table to visualize the data the Chi Square test will use. From this contingency table we could manually calculate the p-value of the data. Fortuntaely python has a function we can use to automatically calculate the p-value for us.***"
   ]
  },
  {
   "cell_type": "code",
   "execution_count": 28,
   "id": "18c522a9",
   "metadata": {},
   "outputs": [
    {
     "data": {
      "text/html": [
       "<div>\n",
       "<style scoped>\n",
       "    .dataframe tbody tr th:only-of-type {\n",
       "        vertical-align: middle;\n",
       "    }\n",
       "\n",
       "    .dataframe tbody tr th {\n",
       "        vertical-align: top;\n",
       "    }\n",
       "\n",
       "    .dataframe thead th {\n",
       "        text-align: right;\n",
       "    }\n",
       "</style>\n",
       "<table border=\"1\" class=\"dataframe\">\n",
       "  <thead>\n",
       "    <tr style=\"text-align: right;\">\n",
       "      <th>Injured</th>\n",
       "      <th>0</th>\n",
       "      <th>1</th>\n",
       "    </tr>\n",
       "    <tr>\n",
       "      <th>FieldType</th>\n",
       "      <th></th>\n",
       "      <th></th>\n",
       "    </tr>\n",
       "  </thead>\n",
       "  <tbody>\n",
       "    <tr>\n",
       "      <th>Natural</th>\n",
       "      <td>3263</td>\n",
       "      <td>48</td>\n",
       "    </tr>\n",
       "    <tr>\n",
       "      <th>Synthetic</th>\n",
       "      <td>2345</td>\n",
       "      <td>57</td>\n",
       "    </tr>\n",
       "  </tbody>\n",
       "</table>\n",
       "</div>"
      ],
      "text/plain": [
       "Injured       0   1\n",
       "FieldType          \n",
       "Natural    3263  48\n",
       "Synthetic  2345  57"
      ]
     },
     "execution_count": 28,
     "metadata": {},
     "output_type": "execute_result"
    }
   ],
   "source": [
    "contigency = pd.crosstab(injuries_by_game['FieldType'], injuries_by_game['Injured']) \n",
    "contigency"
   ]
  },
  {
   "cell_type": "code",
   "execution_count": 40,
   "id": "999c0948",
   "metadata": {},
   "outputs": [
    {
     "data": {
      "image/png": "[encoded data removed]",
      "text/plain": [
       "<Figure size 864x576 with 2 Axes>"
      ]
     },
     "metadata": {
      "needs_background": "light"
     },
     "output_type": "display_data"
    }
   ],
   "source": [
    "plt.figure(figsize=(12,8)) \n",
    "sns.heatmap(contigency, annot=True, fmt='g');"
   ]
  },
  {
   "cell_type": "markdown",
   "id": "0d5f1c3a",
   "metadata": {},
   "source": [
    "***Below I run the Chi Square Test on my contigency table. We can see that the p-value of this data is 0.014(rounded up). With our alpha being 0.05 we would need our p-value to be above 0.05 to accept our null hypothesis, Probability of injury on natural turf is less than or equal to injury on sythentic turf. Since the p-value is lower than 0.05 we instead must reject the null hypothesis in favor of the alternative, Probability of injury on sythetic turf is greater than injury on natural turf. This p-value also shows us that our data is statistically significant to this hypothesis test.***"
   ]
  },
  {
   "cell_type": "code",
   "execution_count": 33,
   "id": "de32aee8",
   "metadata": {},
   "outputs": [
    {
     "name": "stdout",
     "output_type": "stream",
     "text": [
      "The p-value is: 0.013701704005366692\n"
     ]
    }
   ],
   "source": [
    "# Chi-square test of independence. \n",
    "c, p, dof, expected = chi2_contingency(contigency) # Print the p-value\n",
    "print('The p-value is: {}'.format(p))"
   ]
  }
 ],
 "metadata": {
  "kernelspec": {
   "display_name": "Python 3 (ipykernel)",
   "language": "python",
   "name": "python3"
  },
  "language_info": {
   "codemirror_mode": {
    "name": "ipython",
    "version": 3
   },
   "file_extension": ".py",
   "mimetype": "text/x-python",
   "name": "python",
   "nbconvert_exporter": "python",
   "pygments_lexer": "ipython3",
   "version": "3.9.7"
  }
 },
 "nbformat": 4,
 "nbformat_minor": 5
}
